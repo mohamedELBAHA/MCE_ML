{
 "cells": [
  {
   "cell_type": "code",
   "execution_count": 1,
   "metadata": {},
   "outputs": [],
   "source": [
    "# in this notebook we will test and evaluate models before integrating the pipeline. \n",
    "# @author : Mohamed El Baha\n",
    "# Banknote dataset => classif = 'class'\n",
    "# Kindey dataset => classif = 'classification'"
   ]
  },
  {
   "cell_type": "code",
   "execution_count": 18,
   "metadata": {},
   "outputs": [],
   "source": [
    "import helper_functions as hf\n",
    "import pandas as od\n",
    "import numpy as np"
   ]
  },
  {
   "cell_type": "code",
   "execution_count": 72,
   "metadata": {},
   "outputs": [
    {
     "name": "stdout",
     "output_type": "stream",
     "text": [
      "shape of \n",
      " X_train = (960, 4) | X_test = (412, 4) \n",
      " y_train = (960,)  | y_test = (412,) \n",
      " \n"
     ]
    }
   ],
   "source": [
    "# 1. Import Data\n",
    "df = hf.import_dataset('banknote')\n",
    "\n",
    "# 2. Preprocess Data ( cleaned, normlized)\n",
    "df = hf.normalize_data(df)\n",
    "\"\"\"\n",
    "/!\\ preprocess_data function need \n",
    "\"\"\"\n",
    "# 3. Split Data ( 70% train, 30% test )\n",
    "X = df.drop(columns=['class '])\n",
    "y = df['class ']\n",
    "X_train, X_test, y_train, y_test = hf.split_data(X,y,test_size=0.3)\n",
    "\n",
    "# explore data shapes \n",
    "X_train.shape\n",
    "X_test.shape \n",
    "print(f'shape of \\n X_train = {X_train.shape} | X_test = {X_test.shape} \\n y_train = {y_train.shape}  | y_test = {y_test.shape} \\n ')\n"
   ]
  },
  {
   "cell_type": "code",
   "execution_count": null,
   "metadata": {},
   "outputs": [],
   "source": []
  },
  {
   "cell_type": "code",
   "execution_count": 76,
   "metadata": {},
   "outputs": [],
   "source": [
    "# Feature Selection PCA \n"
   ]
  },
  {
   "cell_type": "code",
   "execution_count": 77,
   "metadata": {},
   "outputs": [
    {
     "data": {
      "text/plain": [
       "array([-0.89439447, -0.89439447, -0.89439447, ...,  1.11725997,\n",
       "        1.11725997,  1.11725997])"
      ]
     },
     "execution_count": 77,
     "metadata": {},
     "output_type": "execute_result"
    }
   ],
   "source": []
  }
 ],
 "metadata": {
  "interpreter": {
   "hash": "5af6db1fe6810fe648d3ea165c1ad2705eba3129b5b7b03805b160185b3319d3"
  },
  "kernelspec": {
   "display_name": "Python 3.8.8 64-bit ('base': conda)",
   "language": "python",
   "name": "python3"
  },
  "language_info": {
   "codemirror_mode": {
    "name": "ipython",
    "version": 3
   },
   "file_extension": ".py",
   "mimetype": "text/x-python",
   "name": "python",
   "nbconvert_exporter": "python",
   "pygments_lexer": "ipython3",
   "version": "3.8.8"
  },
  "orig_nbformat": 4
 },
 "nbformat": 4,
 "nbformat_minor": 2
}
