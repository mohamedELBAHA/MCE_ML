{
 "cells": [
  {
   "cell_type": "code",
   "execution_count": 1,
   "metadata": {},
   "outputs": [],
   "source": [
    "# in this notebook we will test and evaluate models before integrating the pipeline. \n",
    "# @author : Mohamed El Baha\n",
    "# Banknote dataset => classif = 'class'\n",
    "# Kindey dataset => classif = 'classification'"
   ]
  },
  {
   "cell_type": "code",
   "execution_count": 5,
   "metadata": {},
   "outputs": [],
   "source": [
    "import helper_functions as hf\n",
    "import pandas as pd\n",
    "import numpy as np\n",
    "from sklearn.svm import SVC\n",
    "from sklearn.linear_model import LogisticRegression\n",
    "from sklearn.linear_model import SGDClassifier\n",
    "from sklearn.tree import DecisionTreeClassifier\n",
    "from sklearn.ensemble import RandomForestClassifier\n",
    "from sklearn.ensemble import AdaBoostClassifier\n",
    "from sklearn.model_selection import cross_val_score\n",
    "from sklearn.model_selection import GridSearchCV"
   ]
  },
  {
   "cell_type": "code",
   "execution_count": 6,
   "metadata": {},
   "outputs": [
    {
     "name": "stdout",
     "output_type": "stream",
     "text": [
      "-------------------------------------------------------------------------\n",
      "                MACHINE LEARNING CLASSIFICATION PIPELINE                 \n",
      "-------------------------------------------------------------------------\n",
      "Enter here name of the dataset = banknote\n",
      " ✓ The banknote data set succefuly imported !\n",
      "Data sef imported ======> Done\n",
      " ✓ Data succefuly pre-prossesed \n",
      " ✓ Data dimension successfuly reduced\n",
      "\n",
      "Shape of Data \n",
      " Training Data = (960, 3)   |  Test Data = (412, 3) \n",
      " Training Labels = (960,)   |  Test_labels = (412,) \n",
      " \n"
     ]
    }
   ],
   "source": [
    "#-------- PLEASE DO NOT MODIFY THE CODE ----------------\n",
    "#\n",
    "#-------------------------------------------------------\n",
    "#                   Import Data   \n",
    "#-------------------------------------------------------\n",
    "# Choose the data set by typing it's name :\n",
    "# The banknote data set please enter ==> 'banknote'\n",
    "# The kidney diseas data set please enter ==> 'kidney'\n",
    "print('-------------------------------------------------------------------------')\n",
    "print('                MACHINE LEARNING CLASSIFICATION PIPELINE                 ')\n",
    "print('-------------------------------------------------------------------------')\n",
    "#print(\"Please enter the name of the Dataset. \\n for the banknote data set please enter ==> banknote \\n for the kidney diseas data set please enter ==> kidney \")\n",
    "name = input(\"Enter here name of the dataset = \")\n",
    "df = hf.import_dataset(name)\n",
    "print(f' ✓ The {name} data set succefuly imported !')\n",
    "print('Data sef imported ======> Done')\n",
    "\n",
    "#-------------------------------------------------------\n",
    "#       Preprocess Data ( clean and normalize data)\n",
    "#-------------------------------------------------------\n",
    "df = hf.normalize_data(df)\n",
    "print(\" ✓ Data succefuly pre-prossesed \")\n",
    "\n",
    "#-------------------------------------------------------\n",
    "#                  Feature Selection\n",
    "# ------------------------------------------------------\n",
    "df = hf.feature_selection(df,'PCA',variance_threshold=0.95)\n",
    "\n",
    "#-------------------------------------------------------\n",
    "#           Split Data ( 70% train, 30% test )\n",
    "#-------------------------------------------------------\n",
    "X = df.drop(columns=['class '])\n",
    "y = df['class ']\n",
    "X_train, X_test, y_train, y_test = hf.split_data(X,y,test_size=0.3)\n",
    "# Explore data shapes \n",
    "X_train.shape\n",
    "X_test.shape \n",
    "print(f'\\nShape of Data \\n Training Data = {X_train.shape}   |  Test Data = {X_test.shape} \\n Training Labels = {y_train.shape}   |  Test_labels = {y_test.shape} \\n ')\n",
    "\n"
   ]
  },
  {
   "cell_type": "code",
   "execution_count": 9,
   "metadata": {},
   "outputs": [],
   "source": [
    "models = {'SVC':{'model':SVC,\n",
    "                      'parameters':{'kernel':['linear', 'rbf', 'sigmoid', 'poly'], \n",
    "                                                'C'     :[1, 10], \n",
    "                                                'degree': [2, 3],\n",
    "                                                'gamma' : ['scale', 'auto']\n",
    "                                   }\n",
    "                  },\n",
    "               'LogisticRegression':{'model':LogisticRegression, \n",
    "                                    'parameters':{'C':[1], \n",
    "                                                'fit_intercept' : [True],\n",
    "                                                'intercept_scaling' : [1],\n",
    "                                                 }\n",
    "                                    },\n",
    "                'SGDClassifier':{'model':SGDClassifier, \n",
    "                                    'parameters':{'loss':['hinge'], \n",
    "                                                'penalty':['l1'], \n",
    "                                                'fit_intercept' : [True],\n",
    "                                                 }\n",
    "                                    },\n",
    "                'DecisionTreeClassifier':{'model':RandomForestClassifier,\n",
    "                                    'parameters':{'criterion':['gini'], \n",
    "                                                'max_depth' : [5],\n",
    "                                                 }\n",
    "                                    },\n",
    "                 'AdaBoostClassifier':{'model':AdaBoostClassifier,\n",
    "                                    'parameters':{'n_estimators':[50], \n",
    "                                                'algorithm':['SAMME'], \n",
    "                                                'learning_rate' : [0.1]\n",
    "                                                 }\n",
    "                                    },\n",
    "                 'RandomForestClassifier':{'model':RandomForestClassifier,\n",
    "                                    'parameters':{'n_estimators':[50], \n",
    "                                                'criterion':['gini'], \n",
    "                                                'max_depth' : [5],\n",
    "                                                'bootstrap' : [True],\n",
    "                                                 }\n",
    "                                    }\n",
    "                }\n",
    "\n"
   ]
  },
  {
   "cell_type": "code",
   "execution_count": 4,
   "metadata": {},
   "outputs": [
    {
     "name": "stdout",
     "output_type": "stream",
     "text": [
      "\n",
      " 1 - LogisticRegression => lr \n",
      " 2 - SGDclassifier => sgd_clf \n",
      " 3 - DecisionTreeClassifier => dt_clf \n",
      " 4 - AdaBoostClassifier = ab_clf \n",
      " 5 - RandomForsetClassifier = rf_clf\n"
     ]
    },
    {
     "ename": "KeyboardInterrupt",
     "evalue": "Interrupted by user",
     "output_type": "error",
     "traceback": [
      "\u001b[1;31m---------------------------------------------------------------------------\u001b[0m",
      "\u001b[1;31mKeyboardInterrupt\u001b[0m                         Traceback (most recent call last)",
      "\u001b[1;32m<ipython-input-4-2a7e592d58e1>\u001b[0m in \u001b[0;36m<module>\u001b[1;34m\u001b[0m\n\u001b[0;32m      3\u001b[0m \u001b[1;31m#-------------------------------------------\u001b[0m\u001b[1;33m\u001b[0m\u001b[1;33m\u001b[0m\u001b[1;33m\u001b[0m\u001b[0m\n\u001b[0;32m      4\u001b[0m \u001b[0mprint\u001b[0m\u001b[1;33m(\u001b[0m\u001b[1;34m'\\n 1 - LogisticRegression => lr \\n 2 - SGDclassifier => sgd_clf \\n 3 - DecisionTreeClassifier => dt_clf \\n 4 - AdaBoostClassifier = ab_clf \\n 5 - RandomForsetClassifier = rf_clf'\u001b[0m\u001b[1;33m)\u001b[0m\u001b[1;33m\u001b[0m\u001b[1;33m\u001b[0m\u001b[0m\n\u001b[1;32m----> 5\u001b[1;33m \u001b[0mmodel_choice\u001b[0m \u001b[1;33m=\u001b[0m \u001b[0minput\u001b[0m\u001b[1;33m(\u001b[0m\u001b[1;34m\"Please Enter Name of the choosen model : \"\u001b[0m\u001b[1;33m)\u001b[0m\u001b[1;33m\u001b[0m\u001b[1;33m\u001b[0m\u001b[0m\n\u001b[0m\u001b[0;32m      6\u001b[0m \u001b[1;33m\u001b[0m\u001b[0m\n\u001b[0;32m      7\u001b[0m \u001b[1;32mif\u001b[0m \u001b[0mmodel_choice\u001b[0m \u001b[1;33m==\u001b[0m \u001b[1;34m'rf_clf'\u001b[0m\u001b[1;33m:\u001b[0m\u001b[1;33m\u001b[0m\u001b[1;33m\u001b[0m\u001b[0m\n",
      "\u001b[1;32m~\\anaconda3\\lib\\site-packages\\ipykernel\\kernelbase.py\u001b[0m in \u001b[0;36mraw_input\u001b[1;34m(self, prompt)\u001b[0m\n\u001b[0;32m    858\u001b[0m                 \u001b[1;34m\"raw_input was called, but this frontend does not support input requests.\"\u001b[0m\u001b[1;33m\u001b[0m\u001b[1;33m\u001b[0m\u001b[0m\n\u001b[0;32m    859\u001b[0m             )\n\u001b[1;32m--> 860\u001b[1;33m         return self._input_request(str(prompt),\n\u001b[0m\u001b[0;32m    861\u001b[0m             \u001b[0mself\u001b[0m\u001b[1;33m.\u001b[0m\u001b[0m_parent_ident\u001b[0m\u001b[1;33m,\u001b[0m\u001b[1;33m\u001b[0m\u001b[1;33m\u001b[0m\u001b[0m\n\u001b[0;32m    862\u001b[0m             \u001b[0mself\u001b[0m\u001b[1;33m.\u001b[0m\u001b[0m_parent_header\u001b[0m\u001b[1;33m,\u001b[0m\u001b[1;33m\u001b[0m\u001b[1;33m\u001b[0m\u001b[0m\n",
      "\u001b[1;32m~\\anaconda3\\lib\\site-packages\\ipykernel\\kernelbase.py\u001b[0m in \u001b[0;36m_input_request\u001b[1;34m(self, prompt, ident, parent, password)\u001b[0m\n\u001b[0;32m    902\u001b[0m             \u001b[1;32mexcept\u001b[0m \u001b[0mKeyboardInterrupt\u001b[0m\u001b[1;33m:\u001b[0m\u001b[1;33m\u001b[0m\u001b[1;33m\u001b[0m\u001b[0m\n\u001b[0;32m    903\u001b[0m                 \u001b[1;31m# re-raise KeyboardInterrupt, to truncate traceback\u001b[0m\u001b[1;33m\u001b[0m\u001b[1;33m\u001b[0m\u001b[1;33m\u001b[0m\u001b[0m\n\u001b[1;32m--> 904\u001b[1;33m                 \u001b[1;32mraise\u001b[0m \u001b[0mKeyboardInterrupt\u001b[0m\u001b[1;33m(\u001b[0m\u001b[1;34m\"Interrupted by user\"\u001b[0m\u001b[1;33m)\u001b[0m \u001b[1;32mfrom\u001b[0m \u001b[1;32mNone\u001b[0m\u001b[1;33m\u001b[0m\u001b[1;33m\u001b[0m\u001b[0m\n\u001b[0m\u001b[0;32m    905\u001b[0m             \u001b[1;32mexcept\u001b[0m \u001b[0mException\u001b[0m \u001b[1;32mas\u001b[0m \u001b[0me\u001b[0m\u001b[1;33m:\u001b[0m\u001b[1;33m\u001b[0m\u001b[1;33m\u001b[0m\u001b[0m\n\u001b[0;32m    906\u001b[0m                 \u001b[0mself\u001b[0m\u001b[1;33m.\u001b[0m\u001b[0mlog\u001b[0m\u001b[1;33m.\u001b[0m\u001b[0mwarning\u001b[0m\u001b[1;33m(\u001b[0m\u001b[1;34m\"Invalid Message:\"\u001b[0m\u001b[1;33m,\u001b[0m \u001b[0mexc_info\u001b[0m\u001b[1;33m=\u001b[0m\u001b[1;32mTrue\u001b[0m\u001b[1;33m)\u001b[0m\u001b[1;33m\u001b[0m\u001b[1;33m\u001b[0m\u001b[0m\n",
      "\u001b[1;31mKeyboardInterrupt\u001b[0m: Interrupted by user"
     ]
    }
   ],
   "source": [
    "#-------------------------------------------\n",
    "#               Model Selection\n",
    "#-------------------------------------------\n",
    "print('\\n 1 - LogisticRegression => lr \\n 2 - SGDclassifier => sgd_clf \\n 3 - DecisionTreeClassifier => dt_clf \\n 4 - AdaBoostClassifier = ab_clf \\n 5 - RandomForsetClassifier = rf_clf')\n",
    "model_choice = input(\"Please Enter Name of the choosen model : \")\n",
    "\n",
    "if model_choice == 'rf_clf':\n",
    "    print('Model choice : Random Forest Classier')\n",
    "    model = models('RandomForestClassifier')\n",
    "\n",
    "    "
   ]
  },
  {
   "cell_type": "code",
   "execution_count": 17,
   "metadata": {},
   "outputs": [
    {
     "data": {
      "text/plain": [
       "NoneType"
      ]
     },
     "execution_count": 17,
     "metadata": {},
     "output_type": "execute_result"
    }
   ],
   "source": [
    "type(model)\n"
   ]
  },
  {
   "cell_type": "code",
   "execution_count": null,
   "metadata": {},
   "outputs": [],
   "source": [
    "model = models['RandomForestClassifier']"
   ]
  },
  {
   "cell_type": "code",
   "execution_count": null,
   "metadata": {},
   "outputs": [],
   "source": [
    "m = model['model']"
   ]
  },
  {
   "cell_type": "code",
   "execution_count": null,
   "metadata": {},
   "outputs": [],
   "source": []
  },
  {
   "cell_type": "code",
   "execution_count": null,
   "metadata": {},
   "outputs": [],
   "source": [
    "\n",
    "def train_model(model,parameters, X,y):    \n",
    "    clf = model(parameters)\n",
    "    scor = cross_val_score(clf, X, y, cv=5, scoring='f1_macro').mean()\n",
    "    clf.fit(X,y)\n",
    "    return scor, clf\n"
   ]
  },
  {
   "cell_type": "code",
   "execution_count": null,
   "metadata": {},
   "outputs": [],
   "source": []
  },
  {
   "cell_type": "code",
   "execution_count": null,
   "metadata": {},
   "outputs": [],
   "source": [
    "train_model(m, model['parameters'],X_train,y_train)"
   ]
  },
  {
   "cell_type": "code",
   "execution_count": 7,
   "metadata": {},
   "outputs": [],
   "source": [
    "models = {'SVC':{'model':SVC,\n",
    "                      'parameters':{'kernel':['linear', 'rbf', 'sigmoid', 'poly'], \n",
    "                                                'C'     :[1, 10], \n",
    "                                                'degree': [2, 3],\n",
    "                                                'gamma' : ['scale', 'auto']\n",
    "                                   }\n",
    "                  },\n",
    "               'LogisticRegression':{'model':LogisticRegression, \n",
    "                                    'parameters':{'C':[1], \n",
    "                                                'fit_intercept' : [True],\n",
    "                                                'intercept_scaling' : [1],\n",
    "                                                 }\n",
    "                                    },\n",
    "                'SGDClassifier':{'model':SGDClassifier, \n",
    "                                    'parameters':{'loss':['hinge'], \n",
    "                                                'penalty':['l1'], \n",
    "                                                'fit_intercept' : [True],\n",
    "                                                 }\n",
    "                                    },\n",
    "                'DecisionTreeClassifier':{'model':RandomForestClassifier,\n",
    "                                    'parameters':{'criterion':['gini'], \n",
    "                                                'max_depth' : [5],\n",
    "                                                 }\n",
    "                                    },\n",
    "                 'AdaBoostClassifier':{'model':AdaBoostClassifier,\n",
    "                                    'parameters':{'n_estimators':[50], \n",
    "                                                'algorithm':['SAMME'], \n",
    "                                                'learning_rate' : [0.1]\n",
    "                                                 }\n",
    "                                    },\n",
    "                 'RandomForestClassifier':{'model':RandomForestClassifier,\n",
    "                                    'parameters':{'n_estimators':[50], \n",
    "                                                'criterion':['gini'], \n",
    "                                                'max_depth' : [5],\n",
    "                                                'bootstrap' : [True],\n",
    "                                                 }\n",
    "                                    }\n",
    "                }\n",
    "\n"
   ]
  },
  {
   "cell_type": "code",
   "execution_count": 11,
   "metadata": {},
   "outputs": [],
   "source": [
    "m = models['RandomForestClassifier']"
   ]
  },
  {
   "cell_type": "code",
   "execution_count": 12,
   "metadata": {},
   "outputs": [],
   "source": [
    "model = m['model']"
   ]
  },
  {
   "cell_type": "code",
   "execution_count": 14,
   "metadata": {},
   "outputs": [],
   "source": [
    "param = m['parameters']"
   ]
  },
  {
   "cell_type": "code",
   "execution_count": 15,
   "metadata": {},
   "outputs": [
    {
     "data": {
      "text/plain": [
       "{'n_estimators': [50],\n",
       " 'criterion': ['gini'],\n",
       " 'max_depth': [5],\n",
       " 'bootstrap': [True]}"
      ]
     },
     "execution_count": 15,
     "metadata": {},
     "output_type": "execute_result"
    }
   ],
   "source": [
    "param"
   ]
  },
  {
   "cell_type": "code",
   "execution_count": 25,
   "metadata": {},
   "outputs": [],
   "source": [
    "grid=GridSearchCV(SGDClassifier(),param,cv=5)"
   ]
  },
  {
   "cell_type": "code",
   "execution_count": 26,
   "metadata": {},
   "outputs": [
    {
     "ename": "TypeError",
     "evalue": "'GridSearchCV' object is not callable",
     "output_type": "error",
     "traceback": [
      "\u001b[1;31m---------------------------------------------------------------------------\u001b[0m",
      "\u001b[1;31mTypeError\u001b[0m                                 Traceback (most recent call last)",
      "\u001b[1;32m<ipython-input-26-4db4773a598c>\u001b[0m in \u001b[0;36m<module>\u001b[1;34m\u001b[0m\n\u001b[1;32m----> 1\u001b[1;33m \u001b[0mgrid\u001b[0m\u001b[1;33m(\u001b[0m\u001b[0mX_train\u001b[0m\u001b[1;33m,\u001b[0m\u001b[0my_train\u001b[0m\u001b[1;33m)\u001b[0m\u001b[1;33m\u001b[0m\u001b[1;33m\u001b[0m\u001b[0m\n\u001b[0m",
      "\u001b[1;31mTypeError\u001b[0m: 'GridSearchCV' object is not callable"
     ]
    }
   ],
   "source": [
    "grid(X_train,y_train)"
   ]
  },
  {
   "cell_type": "code",
   "execution_count": null,
   "metadata": {},
   "outputs": [],
   "source": []
  }
 ],
 "metadata": {
  "interpreter": {
   "hash": "5af6db1fe6810fe648d3ea165c1ad2705eba3129b5b7b03805b160185b3319d3"
  },
  "kernelspec": {
   "display_name": "Python 3",
   "language": "python",
   "name": "python3"
  },
  "language_info": {
   "codemirror_mode": {
    "name": "ipython",
    "version": 3
   },
   "file_extension": ".py",
   "mimetype": "text/x-python",
   "name": "python",
   "nbconvert_exporter": "python",
   "pygments_lexer": "ipython3",
   "version": "3.8.8"
  }
 },
 "nbformat": 4,
 "nbformat_minor": 2
}
